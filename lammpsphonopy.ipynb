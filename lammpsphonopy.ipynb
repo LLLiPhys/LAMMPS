{
 "cells": [
  {
   "cell_type": "markdown",
   "id": "4878dea0-6930-4c5f-a111-765ffe6a05a6",
   "metadata": {},
   "source": [
    "Molecular dynamics (MD) is often employed to calculate the thermal conductivity of materials. In order to inspect whether the structure is stable or to explain the thermal transport properties, it is very crucial to calculate the phonon properties (phonon dispersion and density of states) of materials. To this end, there are usually two different approaches that can be used: One is to use DFT codes (e.g. VASP) in combination with post-process codes (e.g. PHONOPY) and the other is to use MD codes (e.g. LAMMPS) in combination with post-process codes (e.g. PHONOPY). In this tutorial we are going to use LAMMPS and PHONOPY to calculate phonon dispersion."
   ]
  },
  {
   "cell_type": "code",
   "execution_count": null,
   "id": "5c6e3969-bb5c-4510-98b3-205e2df8dd28",
   "metadata": {},
   "outputs": [],
   "source": []
  }
 ],
 "metadata": {
  "kernelspec": {
   "display_name": "Python 3.6.13 64-bit ('base': conda)",
   "language": "python",
   "name": "python3613jvsc74a57bd0bcaef06b848eec2320239edb2b676b83787ee04762e69d65ede02a0475393f93"
  },
  "language_info": {
   "codemirror_mode": {
    "name": "ipython",
    "version": 3
   },
   "file_extension": ".py",
   "mimetype": "text/x-python",
   "name": "python",
   "nbconvert_exporter": "python",
   "pygments_lexer": "ipython3",
   "version": "3.6.13"
  }
 },
 "nbformat": 4,
 "nbformat_minor": 5
}
