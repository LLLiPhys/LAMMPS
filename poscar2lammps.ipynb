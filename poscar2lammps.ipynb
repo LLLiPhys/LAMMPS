{
 "cells": [
  {
   "cell_type": "markdown",
   "source": [
    "### Convert POSCAR to LAMMPS"
   ],
   "metadata": {}
  },
  {
   "cell_type": "markdown",
   "source": [
    "Running scripts in this short tutorial depends on the following prerequisites:\n",
    "\n",
    "- [Python](https://www.python.org/download/other/) 3.6 or newer\n",
    "- [Numpy](https://numpy.org/) (Numerical Package with Python)\n",
    "- [ASE](https://wiki.fysik.dtu.dk/ase/) (Atomic Simulation Environment)\n",
    "- [Atomsk](https://atomsk.univ-lille.fr/) (Dealing with Atomic Data Files) \n",
    "- [Vesta](https://jp-minerals.org/vesta/en/) (Visualization for Electronic and Structural Analysis)\n",
    "- [Ovito](https://www.ovito.org/) (Open Visualization Tool for Solids and Molucules)\n",
    "\n",
    "To install these dependences, please follow the corresponding instructions in their homepages (there are also a bunch of online resources that are availabe for their installations). "
   ],
   "metadata": {}
  },
  {
   "cell_type": "markdown",
   "source": [
    "For simplicity let's take a metallic surface, e.g. Al(111), as an example to illustrate how to convert a POSCAR file to a LAMMPS file.\n",
    "\n",
    "**STEP 1: Create a Al(111) surface using ASE and write the strucutre to a POSCAR file**"
   ],
   "metadata": {}
  },
  {
   "cell_type": "code",
   "execution_count": 7,
   "source": [
    "import numpy as np\n",
    "from ase.build import fcc111, fcc110\n",
    "\n",
    "# Create a fcc Al(111) surface with size 10x10x5\n",
    "slab = fcc111('Al', size=(10,10,5))\n",
    "\n",
    "# Center the cell along z axis and add a vacuum of 20 A\n",
    "slab.center(vacuum=10, axis=2)\n",
    "\n",
    "# Get cell parameters\n",
    "cellparas = slab.get_cell()[:]\n",
    "print(\"Cell Parameters:\")\n",
    "print(cellparas)\n",
    "\n",
    "# Get atom positions\n",
    "positions = slab.get_positions()\n",
    "print(\"Atom Positions:\")\n",
    "print(positions)\n",
    "\n",
    "# Write to file in POSCAR format (vasp5)\n",
    "slab.write(\"POSCAR\", format='vasp', vasp5=True, direct=False, sort=True)"
   ],
   "outputs": [
    {
     "output_type": "stream",
     "name": "stdout",
     "text": [
      "Cell Parameters:\n",
      "[[28.63782464  0.          0.        ]\n",
      " [14.31891232 24.80108365  0.        ]\n",
      " [ 0.          0.         29.35307436]]\n",
      "Atom Positions:\n",
      "[[ 0.          1.65340558 10.        ]\n",
      " [ 2.86378246  1.65340558 10.        ]\n",
      " [ 5.72756493  1.65340558 10.        ]\n",
      " ...\n",
      " [32.93349833 22.32097528 19.35307436]\n",
      " [35.7972808  22.32097528 19.35307436]\n",
      " [38.66106326 22.32097528 19.35307436]]\n"
     ]
    }
   ],
   "metadata": {}
  },
  {
   "cell_type": "markdown",
   "source": [
    "**STEP 2: Convert the POSCAR file to a LAMMPS file using Atomsk**"
   ],
   "metadata": {}
  },
  {
   "cell_type": "code",
   "execution_count": 8,
   "source": [
    "import os\n",
    "os.system(\"atomsk POSCAR lammps\") # Generate a LAMMPS file named POSCAR.lmp"
   ],
   "outputs": [
    {
     "output_type": "execute_result",
     "data": {
      "text/plain": [
       "0"
      ]
     },
     "metadata": {},
     "execution_count": 8
    }
   ],
   "metadata": {}
  },
  {
   "cell_type": "markdown",
   "source": [
    "Now we can use [Vesta](https://jp-minerals.org/vesta/en/) and [Ovito](https://www.ovito.org/) to visualize POSCAR and POSCAR.lmp, i.e., `vesta POSCAR` and\n",
    "`ovito POSCAR.lmp`."
   ],
   "metadata": {}
  },
  {
   "cell_type": "code",
   "execution_count": null,
   "source": [],
   "outputs": [],
   "metadata": {}
  }
 ],
 "metadata": {
  "kernelspec": {
   "display_name": "Python 3.6.13 64-bit ('base': conda)",
   "language": "python",
   "name": "python3613jvsc74a57bd0bcaef06b848eec2320239edb2b676b83787ee04762e69d65ede02a0475393f93"
  },
  "language_info": {
   "codemirror_mode": {
    "name": "ipython",
    "version": 3
   },
   "file_extension": ".py",
   "mimetype": "text/x-python",
   "name": "python",
   "nbconvert_exporter": "python",
   "pygments_lexer": "ipython3",
   "version": "3.6.13"
  }
 },
 "nbformat": 4,
 "nbformat_minor": 5
}